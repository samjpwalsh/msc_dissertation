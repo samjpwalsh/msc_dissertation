{
 "cells": [
  {
   "cell_type": "markdown",
   "id": "d748b50b-5d81-460b-8f6d-4d8cee74e5db",
   "metadata": {},
   "source": [
    "## Install OpenAI"
   ]
  },
  {
   "cell_type": "code",
   "execution_count": 24,
   "id": "31453e69-abf7-4e24-be28-db7b8ab71d06",
   "metadata": {},
   "outputs": [
    {
     "name": "stdout",
     "output_type": "stream",
     "text": [
      "Requirement already satisfied: openai in /home/jovyan/my-conda-envs/py3.9/lib/python3.9/site-packages (0.27.4)\n",
      "Requirement already satisfied: tqdm in /home/jovyan/my-conda-envs/py3.9/lib/python3.9/site-packages (from openai) (4.65.0)\n",
      "Requirement already satisfied: requests>=2.20 in /home/jovyan/my-conda-envs/py3.9/lib/python3.9/site-packages (from openai) (2.28.2)\n",
      "Requirement already satisfied: aiohttp in /home/jovyan/my-conda-envs/py3.9/lib/python3.9/site-packages (from openai) (3.8.4)\n",
      "Requirement already satisfied: charset-normalizer<4,>=2 in /home/jovyan/my-conda-envs/py3.9/lib/python3.9/site-packages (from requests>=2.20->openai) (3.1.0)\n",
      "Requirement already satisfied: urllib3<1.27,>=1.21.1 in /home/jovyan/my-conda-envs/py3.9/lib/python3.9/site-packages (from requests>=2.20->openai) (1.26.15)\n",
      "Requirement already satisfied: idna<4,>=2.5 in /home/jovyan/my-conda-envs/py3.9/lib/python3.9/site-packages (from requests>=2.20->openai) (3.4)\n",
      "Requirement already satisfied: certifi>=2017.4.17 in /home/jovyan/my-conda-envs/py3.9/lib/python3.9/site-packages (from requests>=2.20->openai) (2022.12.7)\n",
      "Requirement already satisfied: attrs>=17.3.0 in /home/jovyan/my-conda-envs/py3.9/lib/python3.9/site-packages (from aiohttp->openai) (22.2.0)\n",
      "Requirement already satisfied: multidict<7.0,>=4.5 in /home/jovyan/my-conda-envs/py3.9/lib/python3.9/site-packages (from aiohttp->openai) (6.0.4)\n",
      "Requirement already satisfied: yarl<2.0,>=1.0 in /home/jovyan/my-conda-envs/py3.9/lib/python3.9/site-packages (from aiohttp->openai) (1.8.2)\n",
      "Requirement already satisfied: frozenlist>=1.1.1 in /home/jovyan/my-conda-envs/py3.9/lib/python3.9/site-packages (from aiohttp->openai) (1.3.3)\n",
      "Requirement already satisfied: async-timeout<5.0,>=4.0.0a3 in /home/jovyan/my-conda-envs/py3.9/lib/python3.9/site-packages (from aiohttp->openai) (4.0.2)\n",
      "Requirement already satisfied: aiosignal>=1.1.2 in /home/jovyan/my-conda-envs/py3.9/lib/python3.9/site-packages (from aiohttp->openai) (1.3.1)\n",
      "Note: you may need to restart the kernel to use updated packages.\n"
     ]
    }
   ],
   "source": [
    "pip install openai"
   ]
  },
  {
   "cell_type": "code",
   "execution_count": 25,
   "id": "0051d551-a17a-4f37-acbc-9d33a4c80178",
   "metadata": {},
   "outputs": [],
   "source": [
    "import openai\n",
    "import config"
   ]
  },
  {
   "cell_type": "code",
   "execution_count": 26,
   "id": "6365fc79-62f9-445d-8753-968ac569c085",
   "metadata": {},
   "outputs": [],
   "source": [
    "openai.api_key = config.mg_key"
   ]
  },
  {
   "cell_type": "markdown",
   "id": "49773a49-a1fc-4882-b80f-fa23f0a63218",
   "metadata": {},
   "source": [
    "## Models\n",
    "\n",
    "https://platform.openai.com/docs/models"
   ]
  },
  {
   "cell_type": "markdown",
   "id": "b8e515ae-b510-4c32-9093-ec80f93fb170",
   "metadata": {},
   "source": [
    "## Chat"
   ]
  },
  {
   "cell_type": "markdown",
   "id": "dad28daf-b88c-49ba-a32b-4456f089d418",
   "metadata": {},
   "source": [
    "**Parameters**\n",
    "\n",
    "https://platform.openai.com/docs/api-reference/chat"
   ]
  },
  {
   "cell_type": "code",
   "execution_count": 17,
   "id": "cad97f84-0738-4541-8c3e-4be7949a2d73",
   "metadata": {},
   "outputs": [],
   "source": [
    "conversation = openai.ChatCompletion.create(\n",
    "    model=\"gpt-3.5-turbo\",\n",
    "    messages=[{\"role\": \"user\", \"content\": \"Who is the top ranked male tennis player in the world?\"}],\n",
    "    temperature=1,\n",
    "    stream=False,\n",
    "    n=1,\n",
    "    max_tokens=100,\n",
    ")"
   ]
  },
  {
   "cell_type": "markdown",
   "id": "29c52da0-5167-47a7-8e27-82b6ad96d675",
   "metadata": {},
   "source": [
    "**Response Structure**"
   ]
  },
  {
   "cell_type": "code",
   "execution_count": 18,
   "id": "b0f86388-038e-4331-9d3c-e9c88c80f59e",
   "metadata": {},
   "outputs": [
    {
     "data": {
      "text/plain": [
       "<OpenAIObject chat.completion id=chatcmpl-79v18hiThsQvz8hj2hSMPO29RauZz at 0x7fd1bc693ea0> JSON: {\n",
       "  \"choices\": [\n",
       "    {\n",
       "      \"finish_reason\": \"stop\",\n",
       "      \"index\": 0,\n",
       "      \"message\": {\n",
       "        \"content\": \"As of August 2, 2021, the top ranked male tennis player in the world is Novak Djokovic from Serbia.\",\n",
       "        \"role\": \"assistant\"\n",
       "      }\n",
       "    },\n",
       "    {\n",
       "      \"finish_reason\": \"stop\",\n",
       "      \"index\": 1,\n",
       "      \"message\": {\n",
       "        \"content\": \"As of August 23, 2021, the top ranked male tennis player in the world is Novak Djokovic from Serbia.\",\n",
       "        \"role\": \"assistant\"\n",
       "      }\n",
       "    }\n",
       "  ],\n",
       "  \"created\": 1682598482,\n",
       "  \"id\": \"chatcmpl-79v18hiThsQvz8hj2hSMPO29RauZz\",\n",
       "  \"model\": \"gpt-3.5-turbo-0301\",\n",
       "  \"object\": \"chat.completion\",\n",
       "  \"usage\": {\n",
       "    \"completion_tokens\": 56,\n",
       "    \"prompt_tokens\": 20,\n",
       "    \"total_tokens\": 76\n",
       "  }\n",
       "}"
      ]
     },
     "execution_count": 18,
     "metadata": {},
     "output_type": "execute_result"
    }
   ],
   "source": [
    "conversation"
   ]
  },
  {
   "cell_type": "code",
   "execution_count": 19,
   "id": "2f5b11a1-b5cd-4d23-99d6-0a02f9529bd8",
   "metadata": {},
   "outputs": [
    {
     "data": {
      "text/plain": [
       "'As of August 2, 2021, the top ranked male tennis player in the world is Novak Djokovic from Serbia.'"
      ]
     },
     "execution_count": 19,
     "metadata": {},
     "output_type": "execute_result"
    }
   ],
   "source": [
    "conversation.choices[0].message.content"
   ]
  },
  {
   "cell_type": "markdown",
   "id": "9dc4ff71-263c-4433-bde7-67bccc0e4970",
   "metadata": {},
   "source": [
    "**Conversation / Understanding Context**"
   ]
  },
  {
   "cell_type": "code",
   "execution_count": 29,
   "id": "3c3b7d49-97a9-44cf-9fa4-182702e0a324",
   "metadata": {},
   "outputs": [],
   "source": [
    "conversation = openai.ChatCompletion.create(\n",
    "    model=\"gpt-3.5-turbo\",\n",
    "    messages=[\n",
    "        {\"role\": \"user\", \"content\": \"Who is the top ranked male tennis player in the world?\"},\n",
    "        {\"role\": \"assistant\", \"content\": \"As an AI language model, I don't have information about the current date in real-time but currently, as of August 23, 2021, Novak Djokovic of Serbia is the top-ranked male tennis player in the world.\"},\n",
    "        {\"role\": \"user\", \"content\": \"How old is he?\"}\n",
    "    ]\n",
    ")"
   ]
  },
  {
   "cell_type": "code",
   "execution_count": 30,
   "id": "c055be48-9721-4418-902d-0072b2b84d62",
   "metadata": {},
   "outputs": [
    {
     "data": {
      "text/plain": [
       "\"As an AI language model, I don't know the real-time information but as of August 2021, Novak Djokovic was born on May 22, 1987, so he is currently 34 years old.\""
      ]
     },
     "execution_count": 30,
     "metadata": {},
     "output_type": "execute_result"
    }
   ],
   "source": [
    "conversation.choices[0].message.content"
   ]
  },
  {
   "cell_type": "markdown",
   "id": "9523e4cc-da90-41c3-b049-70346297d09b",
   "metadata": {},
   "source": [
    "**Chat Interaction**"
   ]
  },
  {
   "cell_type": "code",
   "execution_count": 31,
   "id": "45032c2f-16bc-46f5-92f6-49345e67136b",
   "metadata": {},
   "outputs": [],
   "source": [
    "def chatGPT_interaction(messages, model, temperature=1, stream=False):\n",
    "    while True:\n",
    "        user_input = input(\"User: \")\n",
    "        if user_input == \"end\":\n",
    "            break\n",
    "        messages.append({\"role\": \"user\", \"content\": user_input})\n",
    "        api_response = openai.ChatCompletion.create(\n",
    "            model=model, \n",
    "            messages=messages, \n",
    "            temperature=temperature, \n",
    "            stream=stream\n",
    "        )\n",
    "        reply = collect_response(api_response, stream)\n",
    "        print(f\"\\nGPT: {reply}\\n\")\n",
    "        messages.append({\"role\": \"assistant\", \"content\": reply})\n",
    "\n",
    "def collect_response(conversation, stream=False):\n",
    "    if stream:\n",
    "        collected_chunks = []\n",
    "        collected_messages = []\n",
    "        for chunk in conversation:\n",
    "            collected_chunks.append(chunk)\n",
    "            chunk_message = chunk['choices'][0]['delta']\n",
    "            collected_messages.append(chunk_message)\n",
    "        return ''.join([m.get('content', '') for m in collected_messages])\n",
    "    else:\n",
    "        return conversation.choices[0].message.content"
   ]
  },
  {
   "cell_type": "code",
   "execution_count": 32,
   "id": "25d4fb07-cc35-42d9-91b3-6e839ed267ac",
   "metadata": {
    "tags": []
   },
   "outputs": [
    {
     "name": "stdin",
     "output_type": "stream",
     "text": [
      "User:  Who is the top ranked tennis player in the world \n"
     ]
    },
    {
     "name": "stdout",
     "output_type": "stream",
     "text": [
      "\n",
      "GPT: As an AI language model, I do not have the capability to provide real-time information or updates. However, you can visit the official website of the Association of Tennis Professionals (ATP) or Women's Tennis Association (WTA) to get the latest rankings of tennis players.\n",
      "\n"
     ]
    },
    {
     "name": "stdin",
     "output_type": "stream",
     "text": [
      "User:  can you give me the link\n"
     ]
    },
    {
     "name": "stdout",
     "output_type": "stream",
     "text": [
      "\n",
      "GPT: Sure! Here are the official websites for ATP and WTA rankings:\n",
      "\n",
      "ATP rankings: https://www.atptour.com/en/rankings/singles\n",
      "\n",
      "WTA rankings: https://www.wtatennis.com/rankings/\n",
      "\n"
     ]
    },
    {
     "name": "stdin",
     "output_type": "stream",
     "text": [
      "User:  end\n"
     ]
    }
   ],
   "source": [
    "messages = []\n",
    "model = \"gpt-3.5-turbo\"\n",
    "\n",
    "chatGPT_interaction(messages, model, stream=True)"
   ]
  },
  {
   "cell_type": "markdown",
   "id": "12f13400-541f-4e60-a717-951150514315",
   "metadata": {},
   "source": [
    "**Altering behaviour through \"system\"**"
   ]
  },
  {
   "cell_type": "code",
   "execution_count": 35,
   "id": "1a115d0f-6955-48a7-911c-d82f9d91116a",
   "metadata": {},
   "outputs": [],
   "source": [
    "system_config = {\"role\": \"system\", \"content\": \"respond using the language of a 17th century pirate\"}"
   ]
  },
  {
   "cell_type": "code",
   "execution_count": 36,
   "id": "8c46dca6-0811-4a56-b616-85fa6dfe6f7c",
   "metadata": {},
   "outputs": [
    {
     "name": "stdin",
     "output_type": "stream",
     "text": [
      "User:  Who is the top ranked male tennis player\n"
     ]
    },
    {
     "name": "stdout",
     "output_type": "stream",
     "text": [
      "\n",
      "GPT: Arrr, me hearty! As ye be askin' about the top ranked male tennis player, I'll tell ye that 'tis none other than the great Novak Djokovic, a true champion of the court! He be a fierce competitor, with a powerful swing and a cunning mind for the game. Many a foe has fallen before him, and he be a force to be reckoned with on the high seas of tennis!\n",
      "\n"
     ]
    },
    {
     "name": "stdin",
     "output_type": "stream",
     "text": [
      "User:  end\n"
     ]
    }
   ],
   "source": [
    "messages = [system_config]\n",
    "model = \"gpt-3.5-turbo\"\n",
    "\n",
    "chatGPT_interaction(messages, model, temperature=0.4)"
   ]
  },
  {
   "cell_type": "code",
   "execution_count": null,
   "id": "d5af93c1-4e0b-41db-abea-1a441c6bb59d",
   "metadata": {},
   "outputs": [],
   "source": []
  }
 ],
 "metadata": {
  "kernelspec": {
   "display_name": "Python 3 (ipykernel)",
   "language": "python",
   "name": "python3"
  },
  "language_info": {
   "codemirror_mode": {
    "name": "ipython",
    "version": 3
   },
   "file_extension": ".py",
   "mimetype": "text/x-python",
   "name": "python",
   "nbconvert_exporter": "python",
   "pygments_lexer": "ipython3",
   "version": "3.8.8"
  }
 },
 "nbformat": 4,
 "nbformat_minor": 5
}
